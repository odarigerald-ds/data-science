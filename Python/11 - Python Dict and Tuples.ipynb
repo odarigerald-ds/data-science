{
 "cells": [
  {
   "cell_type": "markdown",
   "metadata": {},
   "source": [
    "Exercise: Python Dict and Tuples"
   ]
  },
  {
   "attachments": {},
   "cell_type": "markdown",
   "metadata": {},
   "source": [
    "## Exercise: Python Dict and Tuples\n",
    "\n",
    "1. We have following information on countries and their population (population is in crores),\n",
    "\n",
    "    |Country|Population|\n",
    "    |-------|----------|\n",
    "    |China|143|\n",
    "    |India|136|\n",
    "    |USA|32|\n",
    "    |Pakistan|21|\n",
    "    1. Using above create a dictionary of countries and its population\n",
    "    2. Write a program that asks user for three type of inputs,\n",
    "        1. print: if user enter print then it should print all countries with their population in this format,\n",
    "            ```\n",
    "            china==>143\n",
    "            india==>136\n",
    "            usa==>32\n",
    "            pakistan==>21\n",
    "            ```\n",
    "        1. add: if user input add then it should further ask for a country name to add. If country already exist in our dataset then it should print that it exist and do nothing. If it doesn't then it asks for population and add that new country/population in our dictionary and print it\n",
    "        2. remove: when user inputs remove it should ask for a country to remove. If country exist in our dictionary then remove it and print new dictionary using format shown above in (a). Else print that country doesn't exist!\n",
    "        3. query: on this again ask user for which country he or she wants to query. When user inputs that country it will print population of that country."
   ]
  },
  {
   "cell_type": "code",
   "execution_count": 59,
   "metadata": {},
   "outputs": [
    {
     "name": "stdout",
     "output_type": "stream",
     "text": [
      "The country doesn't exist in the database\n"
     ]
    }
   ],
   "source": [
    "# 1. Using above create a dictionary of countries and its population\n",
    "countries_population = {\"China\":143,\"India\":136,\"USA\":32,\"Pakistan\":21}\n",
    "\n",
    "# 2. Write a program that asks user for three type of inputs,\n",
    "\n",
    "def print_countries():\n",
    "    for country, population in countries_population.items():\n",
    "        print(f\"{country}==>{population}\")\n",
    "\n",
    "def add_country():\n",
    "    country = input('Enter the name of the country to add: ')\n",
    "    if country in countries_population.keys():\n",
    "        print(\"The country exists in the database\")\n",
    "    else:\n",
    "        population = input('Enter the population of the country: ')\n",
    "        countries_population[country] = population\n",
    "        print_countries()\n",
    "\n",
    "def remove_country():\n",
    "    country = input(\"Enter a country to remove:\")\n",
    "    if country in countries_population.keys():\n",
    "        del countries_population[country]\n",
    "        print_countries()\n",
    "\n",
    "    else:\n",
    "        print(\"The country doesn't exist in the database\")\n",
    "\n",
    "def query_country():\n",
    "    country = input('Which country do you want to query?')\n",
    "    if country in countries_population.keys():\n",
    "        population = countries_population[country]\n",
    "        print(f\"{country}==>{population}\")\n",
    "\n",
    "    else:\n",
    "        print(\"The country doesn't exist in the database\")    \n",
    "\n",
    "def main():\n",
    "    user_input = input(\"Enter 'print' to print all countries with their population, 'add' to include more countries, 'remove' to delete a specific country or 'query' to check for a specific country \")\n",
    "    if user_input == 'print':\n",
    "        print_countries()\n",
    "    elif user_input == 'add':\n",
    "        add_country()\n",
    "    elif user_input == 'remove':\n",
    "        remove_country()\n",
    "    elif user_input == 'query':\n",
    "        query_country()\n",
    "    else:\n",
    "        (main())\n",
    "\n",
    "if __name__ == '__main__':\n",
    "    main()\n",
    "#        1. add: if user input add then it should further ask for a country name to add. If country already exist in our dataset then it should print that it exist and do nothing. \n",
    "#           If it doesn't then it asks for population and add that new country/population in our dictionary and print it"
   ]
  },
  {
   "cell_type": "markdown",
   "metadata": {},
   "source": [
    "2. You are given following list of stocks and their prices in last 3 days,\n",
    "\n",
    "    |Stock|Prices|\n",
    "    |-------|----------|\n",
    "    |info|[600,630,620]|\n",
    "    |ril|[1430,1490,1567]|\n",
    "    |mtl|[234,180,160]|\n",
    "\n",
    "    1. Write a program that asks user for operation. Value of operations could be,\n",
    "        1. print: When user enters print it should print following,\n",
    "            ```\n",
    "            info ==> [600, 630, 620] ==> avg:  616.67\n",
    "            ril ==> [1430, 1490, 1567] ==> avg:  1495.67\n",
    "            mtl ==> [234, 180, 160] ==> avg:  191.33\n",
    "            ```\n",
    "        2. add: When user enters 'add', it asks for stock ticker and price. If stock already exist in your list (like info, ril etc) then it will append the price to the list. Otherwise it will create new entry in your dictionary. For example entering 'tata' and 560 will add tata ==> [560] to the dictionary of stocks."
   ]
  },
  {
   "cell_type": "code",
   "execution_count": 39,
   "metadata": {},
   "outputs": [
    {
     "name": "stdout",
     "output_type": "stream",
     "text": [
      "{'info': [600, 630, 620], 'ril': None, 'mtl': [234, 180, 160]}\n"
     ]
    }
   ],
   "source": [
    "#    1. Write a program that asks user for operation. Value of operations could be,\n",
    "#        1. print: When user enters print it should print following,\n",
    "import numpy as np\n",
    "\n",
    "stock_prices = {\"info\":[600,630,620], \"ril\":[1430,1490,1567], \"mtl\":[234,180,160]}\n",
    "user_input = input(\"Enter 'print' to view the stock prices or 'add' to update the stock prices\")\n",
    "\n",
    "if user_input == \"print\":\n",
    "    for key in stock_prices:\n",
    "        print(key,' ==> ',stock_prices[key],' ==> avg: ',round(np.mean(stock_prices[key]),2))\n",
    "\n",
    "elif user_input == \"add\":\n",
    "    stock_ticker = input('Enter the stock ticker: ')\n",
    "    stock_price = int(input('Enter the stock price: '))\n",
    "    if stock_ticker in stock_prices.keys():\n",
    "        stock_prices[stock_ticker] = stock_prices[stock_ticker].append(stock_price)\n",
    "    else:\n",
    "        stock_prices[stock_ticker] = []\n",
    "        stock_prices[stock_ticker].append(stock_price)\n",
    "    print (stock_prices)\n",
    "else:\n",
    "    print('Wrong entry')\n",
    " "
   ]
  },
  {
   "cell_type": "markdown",
   "metadata": {},
   "source": [
    "3. Write circle_calc() function that takes radius of a circle as an input from user and then it calculates and returns area, circumference and diameter. You should get these values in your main program by calling circle_calc function and then print them\n"
   ]
  },
  {
   "cell_type": "code",
   "execution_count": 9,
   "metadata": {},
   "outputs": [
    {
     "name": "stdout",
     "output_type": "stream",
     "text": [
      "The area of the circle is 153.93804002589985 \n",
      ", The circumference of the circle is 43.982297150257104 \n",
      ", The diameter of the circle is14\n"
     ]
    }
   ],
   "source": [
    "import math\n",
    "\n",
    "def circle_calc(radius):\n",
    "    area = math.pi * radius ** 2\n",
    "    circumference = 2 * math.pi * radius\n",
    "    diameter = 2 * radius\n",
    "    return area, circumference, diameter\n",
    "\n",
    "area, circumference, diameter = circle_calc (int(input(\"Enter the radius of the circle: \"))) \n",
    "\n",
    "print(f\"The area of the circle is {area} \\n, The circumference of the circle is {circumference} \\n, The diameter of the circle is {diameter}\")\n"
   ]
  }
 ],
 "metadata": {
  "kernelspec": {
   "display_name": "Python 3",
   "language": "python",
   "name": "python3"
  },
  "language_info": {
   "codemirror_mode": {
    "name": "ipython",
    "version": 3
   },
   "file_extension": ".py",
   "mimetype": "text/x-python",
   "name": "python",
   "nbconvert_exporter": "python",
   "pygments_lexer": "ipython3",
   "version": "3.11.2"
  },
  "orig_nbformat": 4,
  "vscode": {
   "interpreter": {
    "hash": "aee8b7b246df8f9039afb4144a1f6fd8d2ca17a180786b69acc140d282b71a49"
   }
  }
 },
 "nbformat": 4,
 "nbformat_minor": 2
}
