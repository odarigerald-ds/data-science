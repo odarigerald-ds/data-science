{
 "cells": [
  {
   "attachments": {},
   "cell_type": "markdown",
   "metadata": {},
   "source": [
    "## Exercise: Python Lists\n",
    "1. Let us say your expense for every month are listed below,\n",
    "\t1. January -  2200\n",
    " \t2. February - 2350\n",
    "    3. March - 2600\n",
    "    4. April - 2130\n",
    "    5. May - 2190\n",
    "\n",
    "Create a list to store these monthly expenses and using that find out,"
   ]
  },
  {
   "cell_type": "code",
   "execution_count": 38,
   "metadata": {},
   "outputs": [
    {
     "name": "stdout",
     "output_type": "stream",
     "text": [
      "In February, I spent str(monthly_expenses[1]-monthly_expenses[0]) dollars more than in January\n"
     ]
    },
    {
     "ename": "SyntaxError",
     "evalue": "'return' outside function (2431550918.py, line 13)",
     "output_type": "error",
     "traceback": [
      "\u001b[0;36m  Cell \u001b[0;32mIn[38], line 13\u001b[0;36m\u001b[0m\n\u001b[0;31m    return(total)\u001b[0m\n\u001b[0m    ^\u001b[0m\n\u001b[0;31mSyntaxError\u001b[0m\u001b[0;31m:\u001b[0m 'return' outside function\n"
     ]
    }
   ],
   "source": [
    "months = ['January', 'February', 'March', 'April', 'May']\n",
    "monthly_expenses = [2200, 2350, 2600, 2130, 2190]\n",
    "\n",
    "# 1. In Feb, how many dollars you spent extra compare to January?\n",
    "print(\"In February, I spent str(monthly_expenses[1]-monthly_expenses[0]) dollars more than in January\")\n",
    "\n",
    "# 2. Find out your total expense in first quarter (first three months) of the year.\n",
    "i = 0\n",
    "while i<3:\n",
    "    total = 0\n",
    "    total = total + monthly_expenses[i]\n",
    "    i+=1\n",
    "    return(total)\n",
    "\n",
    "# 3. Find out if you spent exactly 2000 dollars in any month\n",
    "for expense in monthly_expenses:\n",
    "    if expense == 2000:\n",
    "        print('step 3: ', \"I spent 2000 dollars in a month\")\n",
    "    else:\n",
    "        print('step 3: ', \"I did not spend 2000 dollars in any month\")\n",
    "\n",
    "\n",
    "# 4. June month just finished and your expense is 1980 dollar. Add this item to our monthly expense list\n",
    "months.append('June')\n",
    "monthly_expenses.append(1980)\n",
    "print(months)\n",
    "print('step 4: ', monthly_expenses)\n",
    "\n",
    "# 5. You returned an item that you bought in a month of April and got a refund of 200$. Make a correction to your monthly expense list based on this\n",
    "monthly_expenses[3] = monthly_expenses[3] - 200\n",
    "print(\"step 5: \", monthly_expenses)\n",
    "\n"
   ]
  },
  {
   "attachments": {},
   "cell_type": "markdown",
   "metadata": {},
   "source": [
    "2. You have a list of your favourite marvel super heros.\n",
    "```\n",
    "heroes=['spider man','thor','hulk','iron man','captain america']\n",
    "```\n",
    "\n",
    "Using this find out,"
   ]
  },
  {
   "cell_type": "code",
   "execution_count": 31,
   "metadata": {},
   "outputs": [
    {
     "name": "stdout",
     "output_type": "stream",
     "text": [
      "The length of the list is:  5\n",
      "step 2: heroes= ['spider man', 'thor', 'hulk', 'iron man', 'captain america', 'black panther']\n",
      "step 3: heroes = ['spider man', 'thor', 'hulk', 'iron man', 'captain america']\n",
      "step 3: heroes = ['spider man', 'thor', 'hulk', 'black panther', 'iron man', 'captain america']\n",
      "step 4: heroes = ['spider man', 'd', 'o', 'c', 't', 'o', 'r', ' ', 's', 't', 'r', 'a', 'n', 'g', 'e', 'black panther', 'iron man', 'captain america']\n",
      "step 5: heroes = None\n"
     ]
    }
   ],
   "source": [
    "\n",
    "#    1. Length of the list\n",
    "heroes=['spider man','thor','hulk','iron man','captain america']\n",
    "print(\"The length of the list is: \", str(len(heroes)))\n",
    "\n",
    "#    2. Add 'black panther' at the end of this list\n",
    "heroes.append('black panther')\n",
    "print('step 2: heroes=', heroes)\n",
    "\n",
    "#    3. You realize that you need to add 'black panther' after 'hulk', so remove it from the list first and then add it after 'hulk'\n",
    "del heroes[-1]\n",
    "print(\"step 3: heroes =\", heroes)\n",
    "heroes.insert(3, 'black panther')\n",
    "\n",
    "print(\"step 3: heroes =\", heroes)\n",
    "\n",
    "#    4. Now you don't like thor and hulk because they get angry easily :)\n",
    "#       So you want to remove thor and hulk from list and replace them with doctor strange (because he is cool).\n",
    "#       Do that with one line of code.\n",
    "heroes[1:3]=('doctor strange')\n",
    "print(\"step 4: heroes =\", heroes)\n",
    "\n",
    "#    5. Sort the heros list in alphabetical order (Hint. Use dir() functions to list down all functions available in list)\n",
    "heroes = heroes.sort()\n",
    "print(\"step 5: heroes =\", heroes)\n"
   ]
  }
 ],
 "metadata": {
  "kernelspec": {
   "display_name": "Python 3",
   "language": "python",
   "name": "python3"
  },
  "language_info": {
   "codemirror_mode": {
    "name": "ipython",
    "version": 3
   },
   "file_extension": ".py",
   "mimetype": "text/x-python",
   "name": "python",
   "nbconvert_exporter": "python",
   "pygments_lexer": "ipython3",
   "version": "3.11.2"
  },
  "orig_nbformat": 4,
  "vscode": {
   "interpreter": {
    "hash": "aee8b7b246df8f9039afb4144a1f6fd8d2ca17a180786b69acc140d282b71a49"
   }
  }
 },
 "nbformat": 4,
 "nbformat_minor": 2
}
