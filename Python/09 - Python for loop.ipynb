{
 "cells": [
  {
   "cell_type": "code",
   "execution_count": null,
   "metadata": {},
   "outputs": [],
   "source": [
    "## Exercise: Python for loop\n",
    "1. After flipping a coin 10 times you got this result,\n",
    "```\n",
    "result = [\"heads\",\"tails\",\"tails\",\"heads\",\"tails\",\"heads\",\"heads\",\"tails\",\"tails\",\"tails\"]\n",
    "```\n",
    "Using for loop figure out how many times you got heads\n",
    "\n"
   ]
  },
  {
   "cell_type": "code",
   "execution_count": 2,
   "metadata": {},
   "outputs": [
    {
     "name": "stdout",
     "output_type": "stream",
     "text": [
      "1\n",
      "9\n",
      "25\n",
      "49\n",
      "81\n"
     ]
    }
   ],
   "source": [
    "# 2. Print square of all numbers between 1 to 10 except even numbers\n",
    "for number in range(11):\n",
    "    if number%2 == 0:\n",
    "        continue\n",
    "    else:\n",
    "        print(number**2)\n"
   ]
  },
  {
   "cell_type": "code",
   "execution_count": 9,
   "metadata": {},
   "outputs": [
    {
     "name": "stdout",
     "output_type": "stream",
     "text": [
      "That expense is not found\n",
      "That expense is not found\n",
      "That expense is not found\n",
      "That expense occurred in  April\n"
     ]
    }
   ],
   "source": [
    "# 3. Your monthly expense list (from Jan to May) looks like this,\n",
    "\n",
    "expense_list = [2340, 2500, 2100, 3100, 2980]\n",
    "\n",
    "# Write a program that asks you to enter an expense amount and program should tell you in which month that expense occurred. If expense is not\n",
    "# found then it should print that as well.\n",
    "\n",
    "expense_amount = int(input('Enter the expense amount: '))\n",
    "months = ['January', 'February', 'March', 'April', 'May']\n",
    "for i in range(len(expense_list)):\n",
    "    if expense_amount == expense_list[i]:\n",
    "        print('That expense occurred in ', months[i])\n",
    "        break\n",
    "    else:\n",
    "        print('That expense is not found')\n"
   ]
  },
  {
   "cell_type": "code",
   "execution_count": 3,
   "metadata": {},
   "outputs": [],
   "source": [
    "#4. Lets say you are running a 5 km race. Write a program that,\n",
    "#   1. Upon completing each 1 km asks you \"are you tired?\"\n",
    "#   2. If you reply \"yes\" then it should break and print \"you didn't finish the race\"\n",
    "#   3. If you reply \"no\" then it should continue and ask \"are you tired\" on every km\n",
    "#   4. If you finish all 5 km then it should print congratulations message\n",
    "\n",
    "for i in range(1,6):\n",
    "    tired = input('Are you tired? ')\n",
    "    if tired == 'yes':\n",
    "        print(\"you didn't finish the race\")\n",
    "        break\n",
    "    elif tired == 'no':\n",
    "        continue\n",
    "        print('Congratulations for finishing the race')\n"
   ]
  },
  {
   "cell_type": "code",
   "execution_count": 11,
   "metadata": {},
   "outputs": [
    {
     "name": "stdout",
     "output_type": "stream",
     "text": [
      "*\n",
      "**\n",
      "***\n",
      "****\n",
      "*****\n"
     ]
    }
   ],
   "source": [
    "#5. Write a program that prints following shape\n",
    "#```\n",
    "#*\n",
    "#**\n",
    "#***\n",
    "#****\n",
    "#*****\n",
    "#```\n",
    "\n",
    "for i in range (1,6):\n",
    "    print('*'*i)\n"
   ]
  }
 ],
 "metadata": {
  "kernelspec": {
   "display_name": "Python 3",
   "language": "python",
   "name": "python3"
  },
  "language_info": {
   "codemirror_mode": {
    "name": "ipython",
    "version": 3
   },
   "file_extension": ".py",
   "mimetype": "text/x-python",
   "name": "python",
   "nbconvert_exporter": "python",
   "pygments_lexer": "ipython3",
   "version": "3.11.2"
  },
  "orig_nbformat": 4,
  "vscode": {
   "interpreter": {
    "hash": "aee8b7b246df8f9039afb4144a1f6fd8d2ca17a180786b69acc140d282b71a49"
   }
  }
 },
 "nbformat": 4,
 "nbformat_minor": 2
}
