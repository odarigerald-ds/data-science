{
 "cells": [
  {
   "cell_type": "markdown",
   "metadata": {},
   "source": [
    "Exercise: Functions in python"
   ]
  },
  {
   "cell_type": "code",
   "execution_count": 4,
   "metadata": {},
   "outputs": [
    {
     "name": "stdout",
     "output_type": "stream",
     "text": [
      "The area of the triangle is 18.0\n"
     ]
    }
   ],
   "source": [
    "# 1. Write a function called calculate_area that takes base and height as an input and returns and area of a triangle. Equation of an area of a triangle is,\n",
    "\n",
    "def calculate_area(base, height):\n",
    "    area = (1/2)*base*height\n",
    "    return area\n",
    "b = int(input('Enter the base of the triangle: '))\n",
    "h = int(input('Enter the height of the triangle: '))\n",
    "\n",
    "area = calculate_area(b, h)\n",
    "print('The area of the triangle is', area)"
   ]
  },
  {
   "cell_type": "code",
   "execution_count": null,
   "metadata": {},
   "outputs": [],
   "source": [
    "#2. Modify above function to take third parameter shape type. It can be either \"triangle\" or \"rectangle\". Based on shape type it will calculate area. \n",
    "#Equation of rectangle's area is. If no shape is supplied then it should take triangle as a default shape\n",
    "\n",
    "def calculate area(shape = 'triangle', ):\n",
    "    if shape == 'rectangle':\n",
    "        area = length * width\n",
    "    else:\n",
    "        area = (1/2) * base * height\n",
    "    return area\n",
    "\n"
   ]
  },
  {
   "cell_type": "code",
   "execution_count": null,
   "metadata": {},
   "outputs": [],
   "source": [
    "3. Write a function called print_pattern that takes integer number as an argument and prints following pattern if input number is 3,\n",
    "```\n",
    "*\n",
    "**\n",
    "***\n",
    "```\n",
    "if input is 4 then it should print\n",
    "```\n",
    "*\n",
    "**\n",
    "***\n",
    "****\n",
    "```\n",
    "Basically number of lines it prints is equal to that number. (Hint: you need to use two for loops)"
   ]
  }
 ],
 "metadata": {
  "kernelspec": {
   "display_name": "Python 3",
   "language": "python",
   "name": "python3"
  },
  "language_info": {
   "codemirror_mode": {
    "name": "ipython",
    "version": 3
   },
   "file_extension": ".py",
   "mimetype": "text/x-python",
   "name": "python",
   "nbconvert_exporter": "python",
   "pygments_lexer": "ipython3",
   "version": "3.11.2"
  },
  "orig_nbformat": 4,
  "vscode": {
   "interpreter": {
    "hash": "aee8b7b246df8f9039afb4144a1f6fd8d2ca17a180786b69acc140d282b71a49"
   }
  }
 },
 "nbformat": 4,
 "nbformat_minor": 2
}
