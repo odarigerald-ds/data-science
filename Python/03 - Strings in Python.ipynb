{
 "cells": [
  {
   "cell_type": "markdown",
   "metadata": {},
   "source": [
    "Exercise: String in Python"
   ]
  },
  {
   "cell_type": "code",
   "execution_count": null,
   "metadata": {},
   "outputs": [],
   "source": [
    "Create 3 variables to store street, city and country, now create address variable to store entire address. \n",
    "Use two ways of creating this variable, one using + operator and the other using f-string. \n",
    "Now Print the address in such a way that the street, city and country prints in a separate line\n"
   ]
  },
  {
   "cell_type": "code",
   "execution_count": 3,
   "metadata": {},
   "outputs": [
    {
     "name": "stdout",
     "output_type": "stream",
     "text": [
      "Luthuli street, Nairobi city, Kenya\n",
      "Luthuli street, Nairobi city, Kenya\n"
     ]
    }
   ],
   "source": [
    "street = 'Luthuli'\n",
    "city = 'Nairobi'\n",
    "country = 'Kenya'\n",
    "\n",
    "#Use two ways of creating this variable, one using + operator and the other using f-string.\n",
    "address_op = street + ' street, ' + city + ' city, ' + country \n",
    "print (address_op)\n",
    "\n",
    "address_f = f\"{street} street, {city} city, {country}\" \n",
    "print(address_f)\n"
   ]
  },
  {
   "attachments": {},
   "cell_type": "markdown",
   "metadata": {},
   "source": [
    "Create a variable to store the string \"Earth revolves around the sun\"\n",
    "\n",
    "Print \"revolves\" using slice operator\n",
    "\n",
    "Print \"sun\" using negative index\n"
   ]
  },
  {
   "cell_type": "code",
   "execution_count": 7,
   "metadata": {},
   "outputs": [
    {
     "name": "stdout",
     "output_type": "stream",
     "text": [
      "revolves\n",
      "sun\n"
     ]
    }
   ],
   "source": [
    "revolution = \"Earth revolves around the sun\"\n",
    "\n",
    "print(revolution[6:14])\n",
    "print(revolution[-3:])"
   ]
  },
  {
   "cell_type": "markdown",
   "metadata": {},
   "source": [
    "Create two variables to store how many fruits and vegetables you eat in a day. Now Print \"I eat x veggies and y fruits daily\" where x and y presents vegetables \n",
    "and fruits that you eat everyday. Use python f string for this."
   ]
  },
  {
   "cell_type": "code",
   "execution_count": 8,
   "metadata": {},
   "outputs": [
    {
     "name": "stdout",
     "output_type": "stream",
     "text": [
      "I eat 3 veggies and 2 fruits daily\n"
     ]
    }
   ],
   "source": [
    "fruits = input(\"How many fruits do you eat in a day? \")\n",
    "vegetables = input(\"How many vegetables do you eat in a day? \")\n",
    "\n",
    "print(f\"I eat {vegetables} veggies and {fruits} fruits daily\")"
   ]
  },
  {
   "cell_type": "markdown",
   "metadata": {},
   "source": [
    "I have a string variable called s='maine 200 banana khaye'. This of course is a wrong statement, the correct statement is 'maine 10 samosa khaye'. \n",
    "Replace incorrect words in original strong with new ones and print the new string. Also try to do this in one line.\n"
   ]
  },
  {
   "cell_type": "code",
   "execution_count": 11,
   "metadata": {},
   "outputs": [
    {
     "name": "stdout",
     "output_type": "stream",
     "text": [
      "maine 10 samosa khaye\n"
     ]
    }
   ],
   "source": [
    "s='maine 200 banana khaye'\n",
    "s=s.replace(\"banana\",\"samosa\").replace('200','10')\n",
    "print(s)\n",
    "\n"
   ]
  }
 ],
 "metadata": {
  "kernelspec": {
   "display_name": "Python 3",
   "language": "python",
   "name": "python3"
  },
  "language_info": {
   "codemirror_mode": {
    "name": "ipython",
    "version": 3
   },
   "file_extension": ".py",
   "mimetype": "text/x-python",
   "name": "python",
   "nbconvert_exporter": "python",
   "pygments_lexer": "ipython3",
   "version": "3.11.2"
  },
  "orig_nbformat": 4,
  "vscode": {
   "interpreter": {
    "hash": "aee8b7b246df8f9039afb4144a1f6fd8d2ca17a180786b69acc140d282b71a49"
   }
  }
 },
 "nbformat": 4,
 "nbformat_minor": 2
}
