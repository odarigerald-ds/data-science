{
 "cells": [
  {
   "cell_type": "code",
   "execution_count": null,
   "metadata": {},
   "outputs": [],
   "source": [
    "Exercise: Python If Condition"
   ]
  },
  {
   "cell_type": "code",
   "execution_count": 3,
   "metadata": {},
   "outputs": [],
   "source": [
    "\n",
    "#Using following list of cities per country,\n",
    "india = [\"mumbai\", \"banglore\", \"chennai\", \"delhi\"]\n",
    "pakistan = [\"lahore\",\"karachi\",\"islamabad\"]\n",
    "bangladesh = [\"dhaka\", \"khulna\", \"rangpur\"]"
   ]
  },
  {
   "cell_type": "code",
   "execution_count": 6,
   "metadata": {},
   "outputs": [
    {
     "name": "stdout",
     "output_type": "stream",
     "text": [
      "The city is in India\n",
      "I do not know which country the city belongs to\n"
     ]
    }
   ],
   "source": [
    "#i. Write a program that asks user to enter a city name and it should tell which country the city belongs to\n",
    "city = input(\"Enter a name of a city: \")\n",
    "if city in india:\n",
    "    print('The city is in India')\n",
    "if city in pakistan:\n",
    "    print('The city is in Pakistan')\n",
    "if city in bangladesh:\n",
    "    print('The city is in Bangladesh')\n",
    "else:\n",
    "    print('I do not know which country the city belongs to')"
   ]
  },
  {
   "cell_type": "code",
   "execution_count": 8,
   "metadata": {},
   "outputs": [
    {
     "name": "stdout",
     "output_type": "stream",
     "text": [
      "Both cities are in  ['mumbai', 'banglore', 'chennai', 'delhi']\n",
      "They don't belong to same country\n",
      "They don't belong to same country\n"
     ]
    }
   ],
   "source": [
    "#ii. Write a program that asks user to enter two cities and it tells you if they both are in same country or not. \n",
    "#     For example if I enter mumbai and chennai, it will print \"Both cities are in India\" but if I enter mumbai and dhaka it should print \"They don't belong to same country\"\n",
    "city_1 = input('Enter the name of the first city: ')\n",
    "city_2 = input('Enter the name of the second city: ')\n",
    "countries = [india, pakistan, bangladesh]\n",
    "for country in countries:\n",
    "    if city_1 in country and city_2 in country:\n",
    "        print(\"Both cities are in \", country)\n",
    "    else:\n",
    "        print(\"They don't belong to same country\")"
   ]
  },
  {
   "cell_type": "code",
   "execution_count": null,
   "metadata": {},
   "outputs": [],
   "source": []
  },
  {
   "cell_type": "code",
   "execution_count": 14,
   "metadata": {},
   "outputs": [
    {
     "name": "stdout",
     "output_type": "stream",
     "text": [
      "Your sugar level is high\n"
     ]
    }
   ],
   "source": [
    "#Write a python program that can tell you if your sugar is normal or not. Normal fasting level sugar range is 80 to 100.\n",
    "#Ask user to enter his fasting sugar level\n",
    "#If it is below 80 to 100 range then print that sugar is low\n",
    "#If it is above 100 then print that it is high otherwise print that it is normal\n",
    "sugar_level = int(input(\"Emter your fasting sugar level: \"))\n",
    "if sugar_level <80:\n",
    "    print('Your sugar level is low')\n",
    "elif sugar_level >100:\n",
    "    print('Your sugar level is high')\n",
    "else:\n",
    "    print('Your sugar level is normal')"
   ]
  }
 ],
 "metadata": {
  "kernelspec": {
   "display_name": "Python 3",
   "language": "python",
   "name": "python3"
  },
  "language_info": {
   "codemirror_mode": {
    "name": "ipython",
    "version": 3
   },
   "file_extension": ".py",
   "mimetype": "text/x-python",
   "name": "python",
   "nbconvert_exporter": "python",
   "pygments_lexer": "ipython3",
   "version": "3.11.2"
  },
  "orig_nbformat": 4,
  "vscode": {
   "interpreter": {
    "hash": "aee8b7b246df8f9039afb4144a1f6fd8d2ca17a180786b69acc140d282b71a49"
   }
  }
 },
 "nbformat": 4,
 "nbformat_minor": 2
}
